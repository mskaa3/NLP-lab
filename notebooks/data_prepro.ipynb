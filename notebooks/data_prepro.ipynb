{
 "cells": [
  {
   "cell_type": "code",
   "execution_count": 25,
   "metadata": {},
   "outputs": [],
   "source": [
    "import pandas as pd\n",
    "import os\n",
    "import json"
   ]
  },
  {
   "cell_type": "code",
   "execution_count": 5,
   "metadata": {},
   "outputs": [
    {
     "data": {
      "text/plain": [
       "'c:\\\\Users\\\\julia\\\\Desktop\\\\sem2\\\\NLP\\\\NLP-lab\\\\raw_data'"
      ]
     },
     "execution_count": 5,
     "metadata": {},
     "output_type": "execute_result"
    }
   ],
   "source": [
    "path = os.getcwd()\n",
    "parent_dir = os.path.abspath(os.path.join(path, os.pardir))\n",
    "data_dir = os.path.join(parent_dir, \"raw_data\")\n",
    "data_dir"
   ]
  },
  {
   "cell_type": "code",
   "execution_count": 7,
   "metadata": {},
   "outputs": [],
   "source": [
    "reddit_1 = pd.read_json(os.path.join(data_dir, \"reddit_scraped.json\"))\n",
    "reddit_2 = pd.read_feather(os.path.join(data_dir, \"reddit_scraped.feather\"))\n",
    "reddit_3 = pd.read_json(os.path.join(data_dir, \"redditIsHate.json\"))"
   ]
  },
  {
   "cell_type": "code",
   "execution_count": 8,
   "metadata": {},
   "outputs": [
    {
     "data": {
      "text/html": [
       "<div>\n",
       "<style scoped>\n",
       "    .dataframe tbody tr th:only-of-type {\n",
       "        vertical-align: middle;\n",
       "    }\n",
       "\n",
       "    .dataframe tbody tr th {\n",
       "        vertical-align: top;\n",
       "    }\n",
       "\n",
       "    .dataframe thead th {\n",
       "        text-align: right;\n",
       "    }\n",
       "</style>\n",
       "<table border=\"1\" class=\"dataframe\">\n",
       "  <thead>\n",
       "    <tr style=\"text-align: right;\">\n",
       "      <th></th>\n",
       "      <th>topic</th>\n",
       "      <th>text</th>\n",
       "    </tr>\n",
       "  </thead>\n",
       "  <tbody>\n",
       "    <tr>\n",
       "      <th>0</th>\n",
       "      <td>Polski Subreddit</td>\n",
       "      <td>Oficjalne wyniki głosowania do Sejmu z 100%* o...</td>\n",
       "    </tr>\n",
       "    <tr>\n",
       "      <th>1</th>\n",
       "      <td>Polski Subreddit</td>\n",
       "      <td>Wielkie Głosowanie nad zmianą regulaminu /r/Po...</td>\n",
       "    </tr>\n",
       "    <tr>\n",
       "      <th>2</th>\n",
       "      <td>Polski Subreddit</td>\n",
       "      <td>Rozwiążmy to raz na zawsze Sernik z czy bez ro...</td>\n",
       "    </tr>\n",
       "    <tr>\n",
       "      <th>3</th>\n",
       "      <td>Polski Subreddit</td>\n",
       "      <td>Hipokryzja?</td>\n",
       "    </tr>\n",
       "    <tr>\n",
       "      <th>4</th>\n",
       "      <td>Polski Subreddit</td>\n",
       "      <td>Od 3 tygodni dzień w dzień męczą mnie spam tel...</td>\n",
       "    </tr>\n",
       "  </tbody>\n",
       "</table>\n",
       "</div>"
      ],
      "text/plain": [
       "              topic                                               text\n",
       "0  Polski Subreddit  Oficjalne wyniki głosowania do Sejmu z 100%* o...\n",
       "1  Polski Subreddit  Wielkie Głosowanie nad zmianą regulaminu /r/Po...\n",
       "2  Polski Subreddit  Rozwiążmy to raz na zawsze Sernik z czy bez ro...\n",
       "3  Polski Subreddit                                       Hipokryzja? \n",
       "4  Polski Subreddit  Od 3 tygodni dzień w dzień męczą mnie spam tel..."
      ]
     },
     "execution_count": 8,
     "metadata": {},
     "output_type": "execute_result"
    }
   ],
   "source": [
    "reddit_1[\"full_text\"] = reddit_1[\"title\"] + \" \" + reddit_1[\"text\"]\n",
    "reddit_1 = reddit_1.drop([\"title\", \"text\", \"post_id\"], axis=1)\n",
    "reddit_1.rename(columns={\"full_text\": \"text\", \"subreddit_title\": \"topic\"}, inplace=True)\n",
    "reddit_1.head()"
   ]
  },
  {
   "cell_type": "code",
   "execution_count": 9,
   "metadata": {},
   "outputs": [
    {
     "data": {
      "text/html": [
       "<div>\n",
       "<style scoped>\n",
       "    .dataframe tbody tr th:only-of-type {\n",
       "        vertical-align: middle;\n",
       "    }\n",
       "\n",
       "    .dataframe tbody tr th {\n",
       "        vertical-align: top;\n",
       "    }\n",
       "\n",
       "    .dataframe thead th {\n",
       "        text-align: right;\n",
       "    }\n",
       "</style>\n",
       "<table border=\"1\" class=\"dataframe\">\n",
       "  <thead>\n",
       "    <tr style=\"text-align: right;\">\n",
       "      <th></th>\n",
       "      <th>topic</th>\n",
       "      <th>text</th>\n",
       "    </tr>\n",
       "  </thead>\n",
       "  <tbody>\n",
       "    <tr>\n",
       "      <th>0</th>\n",
       "      <td>Platforma Obywatelska</td>\n",
       "      <td>Pis ma tylko 157 Posłów.. Pis - 157  \\nSuweren...</td>\n",
       "    </tr>\n",
       "    <tr>\n",
       "      <th>1</th>\n",
       "      <td>Platforma Obywatelska</td>\n",
       "      <td>Program edukacyjny PiS i KO (2) Jako, że w pop...</td>\n",
       "    </tr>\n",
       "    <tr>\n",
       "      <th>2</th>\n",
       "      <td>Platforma Obywatelska</td>\n",
       "      <td>Wspominki. Giertych: Po co nam Platforma Obywa...</td>\n",
       "    </tr>\n",
       "    <tr>\n",
       "      <th>3</th>\n",
       "      <td>Platforma Obywatelska</td>\n",
       "      <td>Just Platforma Obywatelska things</td>\n",
       "    </tr>\n",
       "    <tr>\n",
       "      <th>4</th>\n",
       "      <td>Platforma Obywatelska</td>\n",
       "      <td>Platforma Obywatelska startuje z akcją \"Drużyn...</td>\n",
       "    </tr>\n",
       "  </tbody>\n",
       "</table>\n",
       "</div>"
      ],
      "text/plain": [
       "                   topic                                               text\n",
       "0  Platforma Obywatelska  Pis ma tylko 157 Posłów.. Pis - 157  \\nSuweren...\n",
       "1  Platforma Obywatelska  Program edukacyjny PiS i KO (2) Jako, że w pop...\n",
       "2  Platforma Obywatelska  Wspominki. Giertych: Po co nam Platforma Obywa...\n",
       "3  Platforma Obywatelska                 Just Platforma Obywatelska things \n",
       "4  Platforma Obywatelska  Platforma Obywatelska startuje z akcją \"Drużyn..."
      ]
     },
     "execution_count": 9,
     "metadata": {},
     "output_type": "execute_result"
    }
   ],
   "source": [
    "reddit_2[\"full_text\"] = reddit_2[\"title\"] + \" \" + reddit_2[\"text\"]\n",
    "reddit_2 = reddit_2.drop([\"title\", \"text\", \"post_id\", \"subreddit_title\"], axis=1)\n",
    "reddit_2.rename(columns={\"full_text\": \"text\", \"keyword\": \"topic\"}, inplace=True)\n",
    "reddit_2.head()"
   ]
  },
  {
   "cell_type": "code",
   "execution_count": 10,
   "metadata": {},
   "outputs": [
    {
     "data": {
      "text/html": [
       "<div>\n",
       "<style scoped>\n",
       "    .dataframe tbody tr th:only-of-type {\n",
       "        vertical-align: middle;\n",
       "    }\n",
       "\n",
       "    .dataframe tbody tr th {\n",
       "        vertical-align: top;\n",
       "    }\n",
       "\n",
       "    .dataframe thead th {\n",
       "        text-align: right;\n",
       "    }\n",
       "</style>\n",
       "<table border=\"1\" class=\"dataframe\">\n",
       "  <thead>\n",
       "    <tr style=\"text-align: right;\">\n",
       "      <th></th>\n",
       "      <th>topic</th>\n",
       "      <th>text</th>\n",
       "    </tr>\n",
       "  </thead>\n",
       "  <tbody>\n",
       "    <tr>\n",
       "      <th>0</th>\n",
       "      <td>Platforma Obywatelska</td>\n",
       "      <td>Magdalena Biejat ma wystartować w okręgu 44 w ...</td>\n",
       "    </tr>\n",
       "    <tr>\n",
       "      <th>1</th>\n",
       "      <td>Platforma Obywatelska</td>\n",
       "      <td>Just Platforma Obywatelska things</td>\n",
       "    </tr>\n",
       "    <tr>\n",
       "      <th>2</th>\n",
       "      <td>Platforma Obywatelska</td>\n",
       "      <td>Babcia+</td>\n",
       "    </tr>\n",
       "    <tr>\n",
       "      <th>3</th>\n",
       "      <td>Koalicja Obywatelska</td>\n",
       "      <td>Co?</td>\n",
       "    </tr>\n",
       "    <tr>\n",
       "      <th>4</th>\n",
       "      <td>Koalicja Obywatelska</td>\n",
       "      <td>Jak głosowali młodsi i starsi.</td>\n",
       "    </tr>\n",
       "  </tbody>\n",
       "</table>\n",
       "</div>"
      ],
      "text/plain": [
       "                   topic                                               text\n",
       "0  Platforma Obywatelska  Magdalena Biejat ma wystartować w okręgu 44 w ...\n",
       "1  Platforma Obywatelska                 Just Platforma Obywatelska things \n",
       "2  Platforma Obywatelska                                           Babcia+ \n",
       "3   Koalicja Obywatelska                                               Co? \n",
       "4   Koalicja Obywatelska                    Jak głosowali młodsi i starsi. "
      ]
     },
     "execution_count": 10,
     "metadata": {},
     "output_type": "execute_result"
    }
   ],
   "source": [
    "reddit_3[\"full_text\"] = reddit_3[\"title\"] + \" \" + reddit_3[\"text\"]\n",
    "reddit_3 = reddit_3.drop([\"title\", \"text\", \"subreddit_title\", \"post_id\"], axis=1)\n",
    "reddit_3.rename(columns={\"full_text\": \"text\", \"keyword\": \"topic\"}, inplace=True)\n",
    "reddit_3.head()"
   ]
  },
  {
   "cell_type": "code",
   "execution_count": 11,
   "metadata": {},
   "outputs": [
    {
     "name": "stdout",
     "output_type": "stream",
     "text": [
      "<class 'pandas.core.frame.DataFrame'>\n",
      "RangeIndex: 26130 entries, 0 to 26129\n",
      "Data columns (total 2 columns):\n",
      " #   Column  Non-Null Count  Dtype \n",
      "---  ------  --------------  ----- \n",
      " 0   topic   26130 non-null  object\n",
      " 1   text    26130 non-null  object\n",
      "dtypes: object(2)\n",
      "memory usage: 408.4+ KB\n"
     ]
    }
   ],
   "source": [
    "reddit = pd.concat([reddit_1, reddit_2, reddit_3], ignore_index=True)\n",
    "reddit.info()"
   ]
  },
  {
   "cell_type": "code",
   "execution_count": 14,
   "metadata": {},
   "outputs": [
    {
     "name": "stdout",
     "output_type": "stream",
     "text": [
      "<class 'pandas.core.frame.DataFrame'>\n",
      "Index: 23616 entries, 0 to 26129\n",
      "Data columns (total 3 columns):\n",
      " #   Column  Non-Null Count  Dtype \n",
      "---  ------  --------------  ----- \n",
      " 0   topic   23616 non-null  object\n",
      " 1   text    23616 non-null  object\n",
      " 2   source  23616 non-null  object\n",
      "dtypes: object(3)\n",
      "memory usage: 738.0+ KB\n"
     ]
    }
   ],
   "source": [
    "reddit.drop_duplicates(inplace=True)\n",
    "reddit[\"source\"] = \"reddit\"\n",
    "reddit.info()"
   ]
  },
  {
   "cell_type": "code",
   "execution_count": 17,
   "metadata": {},
   "outputs": [],
   "source": [
    "youtube_1 = pd.read_feather(os.path.join(data_dir, \"comments_df_pandoragate.feather\"))\n",
    "youtube_2 = pd.read_feather(os.path.join(data_dir, \"comments_df_wybory 2023.feather\"))\n",
    "youtube = pd.concat([youtube_1, youtube_2], ignore_index=True)"
   ]
  },
  {
   "cell_type": "code",
   "execution_count": 18,
   "metadata": {},
   "outputs": [
    {
     "name": "stdout",
     "output_type": "stream",
     "text": [
      "<class 'pandas.core.frame.DataFrame'>\n",
      "RangeIndex: 465483 entries, 0 to 465482\n",
      "Data columns (total 5 columns):\n",
      " #   Column             Non-Null Count   Dtype         \n",
      "---  ------             --------------   -----         \n",
      " 0   id                 465483 non-null  object        \n",
      " 1   topic              465483 non-null  object        \n",
      " 2   publishedAt        465483 non-null  datetime64[ns]\n",
      " 3   authorDisplayName  465483 non-null  object        \n",
      " 4   textOriginal       465483 non-null  object        \n",
      "dtypes: datetime64[ns](1), object(4)\n",
      "memory usage: 17.8+ MB\n"
     ]
    }
   ],
   "source": [
    "youtube.info()"
   ]
  },
  {
   "cell_type": "code",
   "execution_count": 19,
   "metadata": {},
   "outputs": [
    {
     "name": "stdout",
     "output_type": "stream",
     "text": [
      "<class 'pandas.core.frame.DataFrame'>\n",
      "Index: 131734 entries, 0 to 434512\n",
      "Data columns (total 4 columns):\n",
      " #   Column  Non-Null Count   Dtype         \n",
      "---  ------  --------------   -----         \n",
      " 0   topic   131734 non-null  object        \n",
      " 1   date    131734 non-null  datetime64[ns]\n",
      " 2   text    131734 non-null  object        \n",
      " 3   source  131734 non-null  object        \n",
      "dtypes: datetime64[ns](1), object(3)\n",
      "memory usage: 5.0+ MB\n"
     ]
    }
   ],
   "source": [
    "youtube = youtube.drop_duplicates()\n",
    "youtube[\"textOriginal\"].dropna(inplace=True)\n",
    "youtube = youtube.drop([\"id\", \"authorDisplayName\"], axis=1)\n",
    "youtube.rename(columns={\"textOriginal\": \"text\", \"publishedAt\": \"date\"}, inplace=True)\n",
    "youtube[\"source\"] = \"youtube\"\n",
    "youtube.head()\n",
    "youtube.info()"
   ]
  },
  {
   "cell_type": "code",
   "execution_count": 20,
   "metadata": {},
   "outputs": [
    {
     "data": {
      "text/html": [
       "<div>\n",
       "<style scoped>\n",
       "    .dataframe tbody tr th:only-of-type {\n",
       "        vertical-align: middle;\n",
       "    }\n",
       "\n",
       "    .dataframe tbody tr th {\n",
       "        vertical-align: top;\n",
       "    }\n",
       "\n",
       "    .dataframe thead th {\n",
       "        text-align: right;\n",
       "    }\n",
       "</style>\n",
       "<table border=\"1\" class=\"dataframe\">\n",
       "  <thead>\n",
       "    <tr style=\"text-align: right;\">\n",
       "      <th></th>\n",
       "      <th>topic</th>\n",
       "      <th>date</th>\n",
       "      <th>text</th>\n",
       "      <th>source</th>\n",
       "    </tr>\n",
       "  </thead>\n",
       "  <tbody>\n",
       "    <tr>\n",
       "      <th>0</th>\n",
       "      <td>pandoragate</td>\n",
       "      <td>2023-10-24 01:30:53</td>\n",
       "      <td>Budda i Ulfik się nie odwrócili. 🐐</td>\n",
       "      <td>youtube</td>\n",
       "    </tr>\n",
       "    <tr>\n",
       "      <th>1</th>\n",
       "      <td>pandoragate</td>\n",
       "      <td>2023-10-25 09:06:41</td>\n",
       "      <td>No i?</td>\n",
       "      <td>youtube</td>\n",
       "    </tr>\n",
       "    <tr>\n",
       "      <th>2</th>\n",
       "      <td>pandoragate</td>\n",
       "      <td>2023-10-25 09:04:23</td>\n",
       "      <td>Budda szacun. 💪💪💪 \\n\\nBoxdel odczekaj chwilę. ...</td>\n",
       "      <td>youtube</td>\n",
       "    </tr>\n",
       "    <tr>\n",
       "      <th>3</th>\n",
       "      <td>pandoragate</td>\n",
       "      <td>2023-10-25 06:52:35</td>\n",
       "      <td>Frajerzy</td>\n",
       "      <td>youtube</td>\n",
       "    </tr>\n",
       "    <tr>\n",
       "      <th>4</th>\n",
       "      <td>pandoragate</td>\n",
       "      <td>2023-10-25 06:28:47</td>\n",
       "      <td>Właśnie zastanawiałem się jak będzie z Buddą. 🙂</td>\n",
       "      <td>youtube</td>\n",
       "    </tr>\n",
       "  </tbody>\n",
       "</table>\n",
       "</div>"
      ],
      "text/plain": [
       "         topic                date  \\\n",
       "0  pandoragate 2023-10-24 01:30:53   \n",
       "1  pandoragate 2023-10-25 09:06:41   \n",
       "2  pandoragate 2023-10-25 09:04:23   \n",
       "3  pandoragate 2023-10-25 06:52:35   \n",
       "4  pandoragate 2023-10-25 06:28:47   \n",
       "\n",
       "                                                text   source  \n",
       "0                 Budda i Ulfik się nie odwrócili. 🐐  youtube  \n",
       "1                                              No i?  youtube  \n",
       "2  Budda szacun. 💪💪💪 \\n\\nBoxdel odczekaj chwilę. ...  youtube  \n",
       "3                                           Frajerzy  youtube  \n",
       "4    Właśnie zastanawiałem się jak będzie z Buddą. 🙂  youtube  "
      ]
     },
     "execution_count": 20,
     "metadata": {},
     "output_type": "execute_result"
    }
   ],
   "source": [
    "youtube.head()"
   ]
  },
  {
   "cell_type": "code",
   "execution_count": 21,
   "metadata": {},
   "outputs": [],
   "source": [
    "wykop_1 = pd.read_csv(os.path.join(data_dir, \"data_300_new.csv\"), index_col=0)\n",
    "wykop_2 = pd.read_csv(os.path.join(data_dir, \"wykop_data_5000_pages.csv\"), index_col=0)\n",
    "wykop_3 = pd.read_csv(\n",
    "    os.path.join(data_dir, \"wykop_data_informacje_5000_pages.csv\"), index_col=0\n",
    ")\n",
    "wykop_4 = pd.read_csv(\n",
    "    os.path.join(data_dir, \"wykop_data_nowetagi_1000_pages.csv\"), index_col=0\n",
    ")\n",
    "wykop_5 = pd.read_csv(\n",
    "    os.path.join(data_dir, \"wykop_data_nowetagi2_1000_pages.csv\"), index_col=0\n",
    ")\n",
    "wykop_6 = pd.read_json(os.path.join(data_dir, \"wykop_data_nowetagi3_1000_pages.json\"))"
   ]
  },
  {
   "cell_type": "code",
   "execution_count": 22,
   "metadata": {},
   "outputs": [],
   "source": [
    "def clear_wykop(data):\n",
    "    data = data.drop_duplicates()\n",
    "    data = data.drop(\n",
    "        [\"post_id\", \"author\", \"rating\", \"comments\", \"is_reply\", \"replies_to\"], axis=1\n",
    "    )\n",
    "    data = data.rename(columns={\"content\": \"text\", \"tag\": \"topic\"})\n",
    "    data[\"source\"] = \"wykop\"\n",
    "    return data"
   ]
  },
  {
   "cell_type": "code",
   "execution_count": 23,
   "metadata": {},
   "outputs": [],
   "source": [
    "wykop_1 = clear_wykop(wykop_1)\n",
    "wykop_2 = clear_wykop(wykop_2)\n",
    "wykop_3 = clear_wykop(wykop_3)\n",
    "wykop_4 = clear_wykop(wykop_4)\n",
    "wykop_5 = clear_wykop(wykop_5)\n",
    "wykop_6 = clear_wykop(wykop_6)"
   ]
  },
  {
   "cell_type": "code",
   "execution_count": 24,
   "metadata": {},
   "outputs": [
    {
     "data": {
      "text/html": [
       "<div>\n",
       "<style scoped>\n",
       "    .dataframe tbody tr th:only-of-type {\n",
       "        vertical-align: middle;\n",
       "    }\n",
       "\n",
       "    .dataframe tbody tr th {\n",
       "        vertical-align: top;\n",
       "    }\n",
       "\n",
       "    .dataframe thead th {\n",
       "        text-align: right;\n",
       "    }\n",
       "</style>\n",
       "<table border=\"1\" class=\"dataframe\">\n",
       "  <thead>\n",
       "    <tr style=\"text-align: right;\">\n",
       "      <th></th>\n",
       "      <th>date</th>\n",
       "      <th>text</th>\n",
       "      <th>topic</th>\n",
       "      <th>source</th>\n",
       "    </tr>\n",
       "  </thead>\n",
       "  <tbody>\n",
       "    <tr>\n",
       "      <th>0</th>\n",
       "      <td>2023-10-15 13:45:19</td>\n",
       "      <td>Zagłosuje na uczciwego człowieka z zawodem typ...</td>\n",
       "      <td>wybory</td>\n",
       "      <td>wykop</td>\n",
       "    </tr>\n",
       "    <tr>\n",
       "      <th>1</th>\n",
       "      <td>2023-10-15 13:45:18</td>\n",
       "      <td>#wybory dobra, mniejsza o to kto wygra bo to r...</td>\n",
       "      <td>wybory</td>\n",
       "      <td>wykop</td>\n",
       "    </tr>\n",
       "    <tr>\n",
       "      <th>2</th>\n",
       "      <td>2023-10-15 13:44:54</td>\n",
       "      <td>Nie lubię ludzi. Tak po prostu, nic nowego. Ja...</td>\n",
       "      <td>wybory</td>\n",
       "      <td>wykop</td>\n",
       "    </tr>\n",
       "    <tr>\n",
       "      <th>3</th>\n",
       "      <td>2023-10-15 13:44:47</td>\n",
       "      <td>#wybory #humor #mem #pis #po #smieszne</td>\n",
       "      <td>wybory</td>\n",
       "      <td>wykop</td>\n",
       "    </tr>\n",
       "    <tr>\n",
       "      <th>4</th>\n",
       "      <td>2023-10-15 13:44:45</td>\n",
       "      <td>Nie mieszkam w Polsce od ok 20 lat. Nie głosow...</td>\n",
       "      <td>wybory</td>\n",
       "      <td>wykop</td>\n",
       "    </tr>\n",
       "  </tbody>\n",
       "</table>\n",
       "</div>"
      ],
      "text/plain": [
       "                  date                                               text  \\\n",
       "0  2023-10-15 13:45:19  Zagłosuje na uczciwego człowieka z zawodem typ...   \n",
       "1  2023-10-15 13:45:18  #wybory dobra, mniejsza o to kto wygra bo to r...   \n",
       "2  2023-10-15 13:44:54  Nie lubię ludzi. Tak po prostu, nic nowego. Ja...   \n",
       "3  2023-10-15 13:44:47             #wybory #humor #mem #pis #po #smieszne   \n",
       "4  2023-10-15 13:44:45  Nie mieszkam w Polsce od ok 20 lat. Nie głosow...   \n",
       "\n",
       "    topic source  \n",
       "0  wybory  wykop  \n",
       "1  wybory  wykop  \n",
       "2  wybory  wykop  \n",
       "3  wybory  wykop  \n",
       "4  wybory  wykop  "
      ]
     },
     "execution_count": 24,
     "metadata": {},
     "output_type": "execute_result"
    }
   ],
   "source": [
    "wykop_1.head()"
   ]
  },
  {
   "cell_type": "code",
   "execution_count": 26,
   "metadata": {},
   "outputs": [
    {
     "name": "stdout",
     "output_type": "stream",
     "text": [
      "<class 'pandas.core.frame.DataFrame'>\n",
      "RangeIndex: 223245 entries, 0 to 223244\n",
      "Data columns (total 4 columns):\n",
      " #   Column  Non-Null Count   Dtype \n",
      "---  ------  --------------   ----- \n",
      " 0   date    199629 non-null  object\n",
      " 1   text    223245 non-null  object\n",
      " 2   topic   223245 non-null  object\n",
      " 3   source  223245 non-null  object\n",
      "dtypes: object(4)\n",
      "memory usage: 6.8+ MB\n"
     ]
    }
   ],
   "source": [
    "combined = pd.concat(\n",
    "    [wykop_1, wykop_2, wykop_3, wykop_4, wykop_5, wykop_6, youtube, reddit],\n",
    "    ignore_index=True,\n",
    ")\n",
    "combined.info()"
   ]
  },
  {
   "cell_type": "code",
   "execution_count": 27,
   "metadata": {},
   "outputs": [],
   "source": [
    "wiki_dir = os.path.join(parent_dir, \"final_wikidumps\")\n",
    "wiki_data = []\n",
    "\n",
    "for file in os.listdir(wiki_dir):\n",
    "    if file.endswith(\".json\"):\n",
    "        try:\n",
    "            with open(os.path.join(wiki_dir, file), \"r\") as read_file:\n",
    "                wiki_metadata = json.load(read_file)\n",
    "                with open(\n",
    "                    os.path.join(wiki_dir, file.replace(\"_metadata.json\", \"\")), \"r\"\n",
    "                ) as fp:\n",
    "                    text = fp.read()\n",
    "                    title = wiki_metadata[\"title\"]\n",
    "                    wiki_data.append(\n",
    "                        {\"title\": title, \"text\": text, \"source\": \"wikipedia\"}\n",
    "                    )\n",
    "\n",
    "        except:\n",
    "            pass\n",
    "wikipedia = pd.DataFrame(wiki_data)"
   ]
  },
  {
   "cell_type": "code",
   "execution_count": 44,
   "metadata": {},
   "outputs": [],
   "source": [
    "combined.to_csv(os.path.join(parent_dir,\"data\",\"wzorcowy.csv\"))"
   ]
  },
  {
   "cell_type": "code",
   "execution_count": 48,
   "metadata": {},
   "outputs": [
    {
     "name": "stdout",
     "output_type": "stream",
     "text": [
      "<class 'pandas.core.frame.DataFrame'>\n",
      "RangeIndex: 490568 entries, 0 to 490567\n",
      "Data columns (total 3 columns):\n",
      " #   Column  Non-Null Count   Dtype \n",
      "---  ------  --------------   ----- \n",
      " 0   title   490568 non-null  object\n",
      " 1   text    490568 non-null  object\n",
      " 2   source  490568 non-null  object\n",
      "dtypes: object(3)\n",
      "memory usage: 11.2+ MB\n"
     ]
    }
   ],
   "source": [
    "wikipedia.info()\n",
    "wikipedia = wikipedia.drop_duplicates()"
   ]
  },
  {
   "cell_type": "code",
   "execution_count": 50,
   "metadata": {},
   "outputs": [],
   "source": [
    "combined_total = pd.concat([combined, wikipedia], ignore_index=True)\n",
    "combined_total.to_csv(os.path.join(parent_dir,\"data\",\"pelny.csv\"))"
   ]
  }
 ],
 "metadata": {
  "kernelspec": {
   "display_name": "Python 3",
   "language": "python",
   "name": "python3"
  },
  "language_info": {
   "codemirror_mode": {
    "name": "ipython",
    "version": 3
   },
   "file_extension": ".py",
   "mimetype": "text/x-python",
   "name": "python",
   "nbconvert_exporter": "python",
   "pygments_lexer": "ipython3",
   "version": "3.9.0"
  }
 },
 "nbformat": 4,
 "nbformat_minor": 2
}
